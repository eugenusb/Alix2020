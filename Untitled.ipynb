{
 "cells": [
  {
   "cell_type": "code",
   "execution_count": 1,
   "metadata": {},
   "outputs": [],
   "source": [
    "import numpy as np\n",
    "import pandas as pd\n",
    "import matplotlib as plt\n",
    "import re\n",
    "import lightgbm as lgb\n",
    "import datetime as dt\n",
    "from sklearn.metrics import log_loss\n",
    "from sklearn.model_selection import train_test_split\n",
    "from sklearn.model_selection import RandomizedSearchCV, GridSearchCV\n",
    "pd.set_option('display.max_rows', 100)\n",
    "pd.set_option('display.max_columns', 100)\n",
    "pd.set_option('display.width', 1000)"
   ]
  },
  {
   "cell_type": "code",
   "execution_count": 2,
   "metadata": {},
   "outputs": [],
   "source": [
    "file = \"Entrenamieto_ECI_2020.csv\"\n",
    "data = pd.read_csv(file)\n",
    "data = data.rename(columns = lambda x:re.sub(\"[^A-Za-z0-9_]+\", \"\", x))\n",
    "data = data[(data.Stage == \"Closed Won\") | (data.Stage == \"Closed Lost\")]\n",
    "data.Stage = data.Stage.replace({\"Closed Won\": 1, \"Closed Lost\": 0})"
   ]
  },
  {
   "cell_type": "code",
   "execution_count": 3,
   "metadata": {},
   "outputs": [],
   "source": [
    "clear = [\"Opportunity_Name\", \"ID\",\"Last_Activity\", \"Brand\", \"Product_Type\", \"ASP_converted_Currency\", \n",
    "          \"Prod_Category_A\", \"Product_Category_B\", \"Actual_Delivery_Date\", \"Last_Activity\", \n",
    "          \"ASP_converted_Currency\", \"Prod_Category_A\", \"Product_Name\", \"Delivery_Year\", \"Month\", \n",
    "          \"TRF\", \"Product_Family\", \"Account_Name\", \"Submitted_for_Approval\", \"Account_Type\", \"Delivery_Terms\", \n",
    "          \"Size\", \"Price\", \"ASP_Currency\", \"Total_Amount_Currency\", \"Total_Taxable_Amount_Currency\",\"Quote_Type\", \n",
    "          \"Opportunity_Type\"]\n",
    "dates = [\"Account_Created_Date\", \"Opportunity_Created_Date\", \"Quote_Expiry_Date\", \"Last_Modified_Date\", \n",
    "         \"Planned_Delivery_Start_Date\", \"Planned_Delivery_End_Date\"]\n",
    "target = [\"Opportunity_ID\", \"Stage\", \"Sales_Contract_No\"]"
   ]
  },
  {
   "cell_type": "code",
   "execution_count": 68,
   "metadata": {},
   "outputs": [],
   "source": [
    "def preprocess(data):\n",
    "    \n",
    "    # elimino caracteres prohibidos\n",
    "    \n",
    "    data = data.rename(columns = lambda x:re.sub(\"[^A-Za-z0-9_]+\", \"\", x))\n",
    "        \n",
    "    for d in dates:\n",
    "        data[d] = pd.to_datetime(data[d])\n",
    "\n",
    "    # agrego features\n",
    "    # Contacts: la cantidad de negociaciones registradas\n",
    "    # Delivery_difference: la cantidad de dias entre las fechas planeadas final e inicial de delivery\n",
    "    \n",
    "    data[\"Contacts\"] = data.groupby(\"Opportunity_ID\", sort = False)[\"Opportunity_ID\"].transform(\"count\")\n",
    "    data[\"Delivery_Difference\"] = (data[\"Planned_Delivery_End_Date\"] - data[\"Planned_Delivery_Start_Date\"]).dt.days\n",
    "    data[\"Concrete_Offer\"] = (data[\"Planned_Delivery_End_Date\"] - data[\"Opportunity_Created_Date\"]).dt.days\n",
    "    data.loc[data.Concrete_Offer <= 0].Concrete_Offer = 0\n",
    "    data[\"Offer_Duration\"] = (data[\"Quote_Expiry_Date\"] - data[\"Opportunity_Created_Date\"]).dt.days\n",
    "    data.loc[data.Offer_Duration <= 0].Offer_Duration = -1\n",
    "    data[\"Same_Owner\"] = data.Opportunity_Owner == data.Last_Modified_By\n",
    "    data[\"Has_Brand\"] = data.Brand != \"None\"\n",
    "    data[\"Has_Contract\"] = data.Sales_Contract_No != \"None\"\n",
    "    #data[\"Different_Country\"] = (data.Billing_Country != data.Territory) & (data.Territory != \"None\")    \n",
    "    data.loc[data.TRF == 0, \"TRF_Cat\"] = 0\n",
    "    data.loc[(1 <= data.TRF) & (data.TRF <= 7), \"TRF_Cat\"] = 1\n",
    "    data.loc[data.TRF > 7, \"TRF_Cat\"] = 2\n",
    "    data[\"Sales\"] = data.groupby(\"Account_Name\", sort = False)[\"Account_Name\"].transform(\"count\")\n",
    "    \n",
    "    # limpio columnas\n",
    "    \n",
    "    # casteo a categoricas varias columnas\n",
    "    categorical = [x for x in data.columns if data[x].dtype == \"object\"]\n",
    "    for c in categorical:       \n",
    "        data[c] = data[c].astype(\"category\")\n",
    "    \n",
    "    data = data.drop(clear + dates, axis = 1)\n",
    "    \n",
    "    data.drop(data[(data.Contacts > 1) & (data.ASP.isna())].index, inplace = True)\n",
    "    rest = [x for x in data.columns if x not in ['ID']]\n",
    "    data = data.drop_duplicates(rest)    \n",
    "    \n",
    "    return (data)"
   ]
  },
  {
   "cell_type": "code",
   "execution_count": 69,
   "metadata": {},
   "outputs": [
    {
     "data": {
      "text/plain": [
       "0.07552188454886703"
      ]
     },
     "execution_count": 69,
     "metadata": {},
     "output_type": "execute_result"
    }
   ],
   "source": [
    "df = preprocess(data)\n",
    "categorical = ['Region', 'Territory', 'Bureaucratic_Code', 'Source', 'Billing_Country', 'Account_Name', \n",
    "               'Opportunity_Name', 'Account_Owner', 'Opportunity_Owner', 'Account_Type', 'Last_Modified_By',\n",
    "               'Opportunity_Type', 'Quote_Type', 'Delivery_Terms', 'Brand', 'Product_Type', 'Size',\n",
    "               'Product_Category_B', 'Price', 'Currency', 'Last_Activity', 'Product_Family', \n",
    "               'Product_Name', 'ASP_Currency', 'ASP_converted_Currency', 'Month', 'Delivery_Quarter', \n",
    "               'Actual_Delivery_Date', 'Total_Amount_Currency', 'Total_Taxable_Amount_Currency', 'Prod_Category_A',\n",
    "               'TRF_Cat']\n",
    "categorical = [x for x in categorical if x in df.columns]\n",
    "\n",
    "parameters = {\n",
    "    'objective': 'binary',\n",
    "    'metric': 'binary_logloss',\n",
    "    'is_unbalance': 'true',\n",
    "    'boosting': 'gbdt',\n",
    "    'num_leaves': 40,\n",
    "    'feature_fraction': 0.4,\n",
    "    'bagging_fraction': 0.6,\n",
    "    'bagging_freq': 20,\n",
    "    'learning_rate': 0.015,\n",
    "    'max_bin': 400,\n",
    "    'verbose': 0\n",
    "}\n",
    "\n",
    "full_data = lgb.Dataset(data = df.drop(target, axis = 1), label = df.Stage, categorical_feature = categorical)\n",
    "cv_results = lgb.cv(parameters, full_data, num_boost_round = 1000, nfold = 5, early_stopping_rounds = 100)\n",
    "cv_results[\"binary_logloss-mean\"][-1]"
   ]
  },
  {
   "cell_type": "code",
   "execution_count": null,
   "metadata": {},
   "outputs": [],
   "source": [
    "0.07552188454886703"
   ]
  },
  {
   "cell_type": "code",
   "execution_count": 71,
   "metadata": {},
   "outputs": [],
   "source": [
    "full_data = lgb.Dataset(data = df.drop(target, axis = 1), label = df.Stage, categorical_feature = categorical)\n",
    "full_model = lgb.train(parameters, full_data, num_boost_round = 5000)"
   ]
  },
  {
   "cell_type": "code",
   "execution_count": 87,
   "metadata": {},
   "outputs": [
    {
     "data": {
      "text/plain": [
       "0.9911478017268419"
      ]
     },
     "execution_count": 87,
     "metadata": {},
     "output_type": "execute_result"
    }
   ],
   "source": [
    "validation_file = \"Validacion_ECI_2020.csv\"\n",
    "vali = pd.read_csv(validation_file)\n",
    "validation = preprocess(vali)\n",
    "leak = [\"Opportunity_ID\", \"Sales_Contract_No\"]\n",
    "pred = full_model.predict(validation.drop(leak, axis = 1))\n",
    "\n",
    "# agrupo por Opportunity_ID para dar una sola prediccion por solicitud\n",
    "\n",
    "pred = pd.DataFrame(pred, index = validation.index, columns = [\"Prediction\"])\n",
    "validation = validation.join(pred)\n",
    "\n",
    "answer2 = pd.DataFrame(validation.groupby(\"Opportunity_ID\", as_index = False)[\"Prediction\"].mean())\n",
    "prev = pd.read_csv(\"submission_11.csv\")\n",
    "prev[\"Prediction\"].corr(answer2[\"Prediction\"])"
   ]
  },
  {
   "cell_type": "code",
   "execution_count": 73,
   "metadata": {},
   "outputs": [],
   "source": [
    "answer2.to_csv(\"submission_16.csv\", header = False, index = False)"
   ]
  },
  {
   "cell_type": "code",
   "execution_count": 47,
   "metadata": {},
   "outputs": [
    {
     "name": "stdout",
     "output_type": "stream",
     "text": [
      "Fitting 5 folds for each of 50 candidates, totalling 250 fits\n"
     ]
    },
    {
     "name": "stderr",
     "output_type": "stream",
     "text": [
      "[Parallel(n_jobs=-1)]: Using backend LokyBackend with 2 concurrent workers.\n",
      "[Parallel(n_jobs=-1)]: Done  46 tasks      | elapsed:  4.7min\n",
      "[Parallel(n_jobs=-1)]: Done 196 tasks      | elapsed: 16.0min\n",
      "[Parallel(n_jobs=-1)]: Done 250 out of 250 | elapsed: 19.6min finished\n"
     ]
    },
    {
     "data": {
      "text/plain": [
       "RandomizedSearchCV(cv=5, error_score='raise-deprecating',\n",
       "          estimator=LGBMClassifier(boosting_type='gbdt', class_weight=None, colsample_bytree=1.0,\n",
       "        importance_type='split', learning_rate=0.1, max_depth=-1,\n",
       "        min_child_samples=20, min_child_weight=0.001, min_split_gain=0.0,\n",
       "        n_estimators=100, n_jobs=-1, num_leaves=31, objective=None,\n",
       "        random_state=None, reg_alpha=0.0, reg_lambda=0.0, silent=True,\n",
       "        subsample=1.0, subsample_for_bin=200000, subsample_freq=0),\n",
       "          fit_params=None, iid='warn', n_iter=50, n_jobs=-1,\n",
       "          param_distributions={'num_leaves': [20, 21, 22, 23, 24, 25, 26, 27, 28, 29, 30, 31, 32, 33, 34, 35, 36, 37, 38, 39, 40, 41, 42, 43, 44, 45, 46, 47, 48, 49, 50, 51, 52, 53, 54, 55, 56, 57, 58, 59, 60, 61, 62, 63, 64, 65, 66, 67, 68, 69, 70, 71, 72, 73, 74, 75, 76, 77, 78, 79, 80, 81, 82, 83, 84, 85, ...7979797979798, 0.6838383838383838, 0.6878787878787879, 0.6919191919191919, 0.6959595959595959, 0.7]},\n",
       "          pre_dispatch='2*n_jobs', random_state=None, refit=True,\n",
       "          return_train_score='warn', scoring=None, verbose=1)"
      ]
     },
     "execution_count": 47,
     "metadata": {},
     "output_type": "execute_result"
    }
   ],
   "source": [
    "from sklearn.model_selection import RandomizedSearchCV\n",
    "\n",
    "parameters_grid = {\n",
    "    'application': ['binary'],\n",
    "    'objective': ['binary'],\n",
    "    'metric': ['binary_logloss'],\n",
    "    'boosting_type': ['gbdt', 'dart'],\n",
    "    'is_unbalance': [False, True],\n",
    "    'num_leaves': list(range(20, 150)),\n",
    "    'learning_rate': list(np.logspace(np.log10(0.005), np.log10(0.5), base = 10, num = 1000)),      \n",
    "    'min_child_samples': list(range(20, 100, 5)),\n",
    "    'reg_alpha': list(np.linspace(0, 1)),\n",
    "    'reg_lambda': list(np.linspace(0, 1)),\n",
    "    'max_bin': list(range(240,400)),\n",
    "    'feature_fraction': list(np.linspace(0.3, 0.7, 100)),\n",
    "    'bagging_fraction': list(np.linspace(0.3, 0.7, 100)),\n",
    "    'bagging_freq': [20],\n",
    "    'n_estimators': [500]\n",
    "    #'min_split_gain' : [0.01],    \n",
    "}\n",
    "\n",
    "clf = lgb.LGBMClassifier()\n",
    "grid = RandomizedSearchCV(clf, parameters_grid, verbose = 1, cv = 5, n_jobs = -1, n_iter = 50)\n",
    "grid.fit(df.drop(target, axis = 1), df.Stage)\n",
    "#grid = GridSearchCV(clf, parameters_grid, n_jobs = -1, return_train_score = True, cv = 5, refit = True)\n",
    "#grid.fit(x_train, y_train)\n",
    "#grid.cv_results_.keys()\n",
    "#grid.best_params_\n",
    "#grid.best_score_"
   ]
  },
  {
   "cell_type": "code",
   "execution_count": 48,
   "metadata": {},
   "outputs": [
    {
     "data": {
      "text/plain": [
       "{'application': 'binary',\n",
       " 'bagging_fraction': 0.44545454545454544,\n",
       " 'bagging_freq': 20,\n",
       " 'boosting_type': 'gbdt',\n",
       " 'feature_fraction': 0.6111111111111112,\n",
       " 'is_unbalance': False,\n",
       " 'learning_rate': 0.014772039994401905,\n",
       " 'max_bin': 295,\n",
       " 'metric': 'binary_logloss',\n",
       " 'min_child_samples': 20,\n",
       " 'n_estimators': 500,\n",
       " 'num_leaves': 140,\n",
       " 'objective': 'binary',\n",
       " 'reg_alpha': 0.8775510204081632,\n",
       " 'reg_lambda': 0.5918367346938775}"
      ]
     },
     "execution_count": 48,
     "metadata": {},
     "output_type": "execute_result"
    }
   ],
   "source": [
    "grid.best_params_"
   ]
  },
  {
   "cell_type": "code",
   "execution_count": 65,
   "metadata": {},
   "outputs": [],
   "source": [
    "df.loc[df.Concrete_Offer <= 0].Concrete_Offer = 0"
   ]
  },
  {
   "cell_type": "code",
   "execution_count": 93,
   "metadata": {},
   "outputs": [],
   "source": [
    "prev.to_csv(\"submission_19.csv\", header = False, index = False)"
   ]
  },
  {
   "cell_type": "code",
   "execution_count": 88,
   "metadata": {},
   "outputs": [
    {
     "data": {
      "text/plain": [
       "0.9905426516497299"
      ]
     },
     "execution_count": 88,
     "metadata": {},
     "output_type": "execute_result"
    }
   ],
   "source": [
    "answer2.Prediction = answer2[\"Prediction\"].clip(0.025,0.975)\n"
   ]
  },
  {
   "cell_type": "code",
   "execution_count": 91,
   "metadata": {},
   "outputs": [],
   "source": [
    "prev.Prediction = prev[\"Prediction\"].clip(0.025,0.975)"
   ]
  },
  {
   "cell_type": "code",
   "execution_count": 92,
   "metadata": {},
   "outputs": [
    {
     "data": {
      "text/plain": [
       "0.9910177584970686"
      ]
     },
     "execution_count": 92,
     "metadata": {},
     "output_type": "execute_result"
    }
   ],
   "source": [
    "prev[\"Prediction\"].corr(answer2[\"Prediction\"])"
   ]
  },
  {
   "cell_type": "code",
   "execution_count": 100,
   "metadata": {},
   "outputs": [],
   "source": [
    "aux = df.groupby(\"Opportunity_ID\", as_index = False).max()"
   ]
  },
  {
   "cell_type": "code",
   "execution_count": 102,
   "metadata": {},
   "outputs": [
    {
     "data": {
      "text/plain": [
       "1    5071\n",
       "0    4719\n",
       "Name: Stage, dtype: int64"
      ]
     },
     "execution_count": 102,
     "metadata": {},
     "output_type": "execute_result"
    }
   ],
   "source": [
    "aux.Stage.value_counts()"
   ]
  },
  {
   "cell_type": "code",
   "execution_count": null,
   "metadata": {},
   "outputs": [],
   "source": []
  }
 ],
 "metadata": {
  "kernelspec": {
   "display_name": "Python 2",
   "language": "python",
   "name": "python2"
  },
  "language_info": {
   "codemirror_mode": {
    "name": "ipython",
    "version": 2
   },
   "file_extension": ".py",
   "mimetype": "text/x-python",
   "name": "python",
   "nbconvert_exporter": "python",
   "pygments_lexer": "ipython2",
   "version": "2.7.17"
  }
 },
 "nbformat": 4,
 "nbformat_minor": 2
}
