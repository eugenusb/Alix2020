{
 "cells": [
  {
   "cell_type": "code",
   "execution_count": 1,
   "metadata": {},
   "outputs": [],
   "source": [
    "import numpy as np\n",
    "import pandas as pd\n",
    "import matplotlib as plt\n",
    "import re\n",
    "import lightgbm as lgb\n",
    "import datetime as dt\n",
    "from sklearn.metrics import log_loss\n",
    "from sklearn.model_selection import train_test_split\n",
    "from sklearn.model_selection import RandomizedSearchCV, GridSearchCV\n",
    "pd.set_option('display.max_rows', 100)\n",
    "pd.set_option('display.max_columns', 100)\n",
    "pd.set_option('display.width', 1000)"
   ]
  },
  {
   "cell_type": "code",
   "execution_count": 2,
   "metadata": {},
   "outputs": [],
   "source": [
    "file = \"Entrenamieto_ECI_2020.csv\"\n",
    "data = pd.read_csv(file)\n",
    "data = data.rename(columns = lambda x:re.sub(\"[^A-Za-z0-9_]+\", \"\", x))\n",
    "data = data[(data.Stage == \"Closed Won\") | (data.Stage == \"Closed Lost\")]\n",
    "data.Stage = data.Stage.replace({\"Closed Won\": 1, \"Closed Lost\": 0})"
   ]
  },
  {
   "cell_type": "code",
   "execution_count": 11,
   "metadata": {},
   "outputs": [],
   "source": [
    "clear = [\"Opportunity_Name\", \"ID\",\"Last_Activity\", \"Brand\", \"Product_Type\", \"ASP_converted_Currency\", \n",
    "          \"Prod_Category_A\", \"Product_Category_B\", \"ASP_converted_Currency\", \"Product_Name\", \n",
    "         \"Delivery_Year\", \"Month\", \"TRF\", \"Product_Family\", \"Account_Name\", \"Submitted_for_Approval\", \n",
    "         \"Account_Type\", \"Delivery_Terms\", \"Size\", \"Price\", \"ASP_Currency\", \"Total_Amount_Currency\", \n",
    "         \"Total_Taxable_Amount_Currency\",\"Quote_Type\", \"Opportunity_Type\"]\n",
    "min_clear = [\"Opportunity_Name\", \"ID\", \"Prod_Category_A\", \"Product_Name\", \"Account_Name\",\n",
    "             \"Delivery_Year\", \"Month\",\"Product_Family\", \"Submitted_for_Approval\",  \"ASP_converted_Currency\", \n",
    "             \"Quote_Type\", \"Size\", \"Brand\", \"Price\", \"Product_Category_B\", \"Total_Amount_Currency\", \n",
    "             \"Total_Taxable_Amount_Currency\"]\n",
    "dates = [\"Account_Created_Date\", \"Opportunity_Created_Date\", \"Quote_Expiry_Date\", \"Last_Modified_Date\", \n",
    "         \"Planned_Delivery_Start_Date\", \"Planned_Delivery_End_Date\", \"Last_Activity\", \"Actual_Delivery_Date\"]\n",
    "target = [\"Opportunity_ID\", \"Stage\", \"Sales_Contract_No\"]"
   ]
  },
  {
   "cell_type": "code",
   "execution_count": 12,
   "metadata": {},
   "outputs": [],
   "source": [
    "def preprocess(data):\n",
    "    \n",
    "    # elimino caracteres prohibidos\n",
    "    \n",
    "    data = data.rename(columns = lambda x:re.sub(\"[^A-Za-z0-9_]+\", \"\", x))\n",
    "    \n",
    "    rest = [x for x in data.columns if x != 'ID']\n",
    "    data = data.drop_duplicates(rest)\n",
    "        \n",
    "    for d in dates:\n",
    "        data[d] = pd.to_datetime(data[d])\n",
    "\n",
    "    # agrego features\n",
    "    # Contacts: la cantidad de negociaciones registradas\n",
    "    # Delivery_difference: la cantidad de dias entre las fechas planeadas final e inicial de delivery\n",
    "    \n",
    "    data[\"Contacts\"] = data.groupby(\"Opportunity_ID\", sort = False)[\"Opportunity_ID\"].transform(\"count\")\n",
    "    data[\"Delivery_Difference\"] = (data[\"Planned_Delivery_End_Date\"] - data[\"Planned_Delivery_Start_Date\"]).dt.days\n",
    "    #data[\"Concrete_Offer\"] = (data[\"Planned_Delivery_End_Date\"] - data[\"Opportunity_Created_Date\"]).dt.days\n",
    "    #data.loc[data.Concrete_Offer <= 0, \"Concrete_Offer\"] = 0\n",
    "    data[\"Offer_Duration\"] = (data[\"Quote_Expiry_Date\"] - data[\"Opportunity_Created_Date\"]).dt.days\n",
    "    data[\"Has_Quote\"] = ~(data.Offer_Duration.isna())\n",
    "    #data.loc[data.Offer_Duration <= 0, \"Offer_Duration\"] = -1\n",
    "    data[\"Same_Owner\"] = data.Opportunity_Owner == data.Last_Modified_By\n",
    "    data[\"Has_Brand\"] = data.Brand != \"None\"\n",
    "    data[\"Has_Contract\"] = data.Sales_Contract_No != \"None\"  \n",
    "    data.loc[data.TRF == 0, \"TRF_Cat\"] = 0\n",
    "    data.loc[(1 <= data.TRF) & (data.TRF <= 7), \"TRF_Cat\"] = 1\n",
    "    data.loc[data.TRF > 7, \"TRF_Cat\"] = 2\n",
    "    data[\"Sales\"] = data.groupby(\"Account_Name\", sort = False)[\"Account_Name\"].transform(\"count\")\n",
    "    data[\"Territory_Defined\"] = data.Territory != \"None\"\n",
    "    data[\"Past_Quote\"] = (pd.to_datetime(data.Last_Modified_Date) - pd.to_datetime(data.Quote_Expiry_Date)).dt.days\n",
    "     \n",
    "    # limpio columnas\n",
    "    \n",
    "    # casteo a categoricas varias columnas\n",
    "    categorical = [x for x in data.columns if data[x].dtype == \"object\"]\n",
    "    for c in categorical:       \n",
    "        data[c] = data[c].astype(\"category\")\n",
    "    \n",
    "    data = data.drop(min_clear + dates, axis = 1)\n",
    "    \n",
    "    data.drop(data[(data.Contacts > 1) & (data.ASP.isna())].index, inplace = True)    \n",
    "    \n",
    "    return (data)"
   ]
  },
  {
   "cell_type": "code",
   "execution_count": 13,
   "metadata": {},
   "outputs": [
    {
     "data": {
      "text/plain": [
       "0.07028618176412302"
      ]
     },
     "execution_count": 13,
     "metadata": {},
     "output_type": "execute_result"
    }
   ],
   "source": [
    "df = preprocess(data)\n",
    "categorical = [x for x in df.drop(target, axis=1).select_dtypes('category').columns if x != 'Stage'] + [\"TRF\"]\n",
    "#categorical = [x for x in cat_vars if x in df.columns]\n",
    "\n",
    "parameters = {\n",
    "    'objective': 'binary',\n",
    "    'metric': 'binary_logloss',\n",
    "    'is_unbalance': 'true',\n",
    "    'boosting': 'gbdt',\n",
    "    'num_leaves': 30,\n",
    "    'feature_fraction': 0.4,\n",
    "    'bagging_fraction': 0.6,\n",
    "    'bagging_freq': 20,\n",
    "    'learning_rate': 0.015,\n",
    "    'max_bin': 300,\n",
    "    'verbose': 0\n",
    "}\n",
    "\n",
    "full_data = lgb.Dataset(data = df.drop(target, axis = 1), label = df.Stage, categorical_feature = categorical)\n",
    "cv_results = lgb.cv(parameters, full_data, num_boost_round = 1000, nfold = 5, early_stopping_rounds = 100)\n",
    "cv_results[\"binary_logloss-mean\"][-1]"
   ]
  },
  {
   "cell_type": "code",
   "execution_count": null,
   "metadata": {},
   "outputs": [],
   "source": [
    "0.07263988393875857"
   ]
  },
  {
   "cell_type": "code",
   "execution_count": 19,
   "metadata": {},
   "outputs": [],
   "source": [
    "full_data = lgb.Dataset(data = df.drop(target, axis = 1), label = df.Stage, categorical_feature = categorical)\n",
    "full_model = lgb.train(parameters, full_data, num_boost_round = 500)"
   ]
  },
  {
   "cell_type": "code",
   "execution_count": 16,
   "metadata": {},
   "outputs": [
    {
     "data": {
      "text/plain": [
       "<matplotlib.axes._subplots.AxesSubplot at 0x7fc5d17e5f10>"
      ]
     },
     "execution_count": 16,
     "metadata": {},
     "output_type": "execute_result"
    },
    {
     "data": {
      "image/png": "[encoded data removed]",
      "text/plain": [
       "<Figure size 2160x360 with 1 Axes>"
      ]
     },
     "metadata": {
      "needs_background": "light"
     },
     "output_type": "display_data"
    }
   ],
   "source": [
    "predictors = [x for x in df.drop(target, axis = 1).columns]\n",
    "feat_imp = pd.Series(full_model.feature_importance(\"gain\"), predictors).sort_values(ascending = False)\n",
    "#feat_imp = feat_imp[0:30]\n",
    "plt.rcParams['figure.figsize'] = 30, 5\n",
    "feat_imp.plot(kind = 'bar', title = 'Feature Importance')"
   ]
  },
  {
   "cell_type": "code",
   "execution_count": 17,
   "metadata": {},
   "outputs": [
    {
     "name": "stdout",
     "output_type": "stream",
     "text": [
      "Has_Contract                        212321.440498\n",
      "Sales                                14672.124129\n",
      "TRF                                  14466.069019\n",
      "Past_Quote                           13647.543836\n",
      "Total_Amount                         12750.781227\n",
      "TRF_Cat                              12291.770500\n",
      "Delivery_Difference                  10173.041034\n",
      "Offer_Duration                        9740.198852\n",
      "ASP                                   8965.870259\n",
      "Opportunity_Owner                     8916.216233\n",
      "Total_Taxable_Amount                  8907.570450\n",
      "Last_Modified_By                      7969.021842\n",
      "Has_Brand                             7477.151481\n",
      "ASP_converted                         7160.682994\n",
      "Account_Owner                         5850.595808\n",
      "Contacts                              3803.334099\n",
      "Delivery_Quarter                      3266.931768\n",
      "Product_Type                          2910.769197\n",
      "Territory                             2746.445200\n",
      "Currency                              2652.230163\n",
      "Billing_Country                       2047.585593\n",
      "Bureaucratic_Code                     1833.835154\n",
      "Same_Owner                            1448.287038\n",
      "PricingDelivery_Terms_Approved        1338.627228\n",
      "Bureaucratic_Code_0_Approved          1070.226427\n",
      "Has_Quote                             1027.224752\n",
      "Bureaucratic_Code_0_Approval          1017.981899\n",
      "Opportunity_Type                       909.608547\n",
      "PricingDelivery_Terms_Quote_Appr       726.339078\n",
      "Source                                 310.857487\n",
      "Territory_Defined                      202.748269\n",
      "ASP_Currency                           160.626540\n",
      "Account_Type                           158.990189\n",
      "Delivery_Terms                         155.593738\n",
      "Region                                 101.041260\n",
      "dtype: float64\n"
     ]
    }
   ],
   "source": [
    "print feat_imp"
   ]
  },
  {
   "cell_type": "code",
   "execution_count": 18,
   "metadata": {},
   "outputs": [
    {
     "data": {
      "text/plain": [
       "0.9941543809234377"
      ]
     },
     "execution_count": 18,
     "metadata": {},
     "output_type": "execute_result"
    }
   ],
   "source": [
    "validation_file = \"Validacion_ECI_2020.csv\"\n",
    "vali = pd.read_csv(validation_file)\n",
    "validation = preprocess(vali)\n",
    "leak = [\"Opportunity_ID\", \"Sales_Contract_No\"]\n",
    "pred = full_model.predict(validation.drop(leak, axis = 1))\n",
    "\n",
    "# agrupo por Opportunity_ID para dar una sola prediccion por solicitud\n",
    "\n",
    "pred = pd.DataFrame(pred, index = validation.index, columns = [\"Prediction\"])\n",
    "validation = validation.join(pred)\n",
    "\n",
    "answer2 = pd.DataFrame(validation.groupby(\"Opportunity_ID\", as_index = False)[\"Prediction\"].mean())\n",
    "prev = pd.read_csv(\"submission_11.csv\")\n",
    "prev[\"Prediction\"].corr(answer2[\"Prediction\"])"
   ]
  },
  {
   "cell_type": "code",
   "execution_count": 20,
   "metadata": {},
   "outputs": [],
   "source": [
    "answer2.to_csv(\"submission_23.csv\", header = False, index = False)"
   ]
  },
  {
   "cell_type": "code",
   "execution_count": 47,
   "metadata": {},
   "outputs": [
    {
     "name": "stdout",
     "output_type": "stream",
     "text": [
      "Fitting 5 folds for each of 50 candidates, totalling 250 fits\n"
     ]
    },
    {
     "name": "stderr",
     "output_type": "stream",
     "text": [
      "[Parallel(n_jobs=-1)]: Using backend LokyBackend with 2 concurrent workers.\n",
      "[Parallel(n_jobs=-1)]: Done  46 tasks      | elapsed:  4.7min\n",
      "[Parallel(n_jobs=-1)]: Done 196 tasks      | elapsed: 16.0min\n",
      "[Parallel(n_jobs=-1)]: Done 250 out of 250 | elapsed: 19.6min finished\n"
     ]
    },
    {
     "data": {
      "text/plain": [
       "RandomizedSearchCV(cv=5, error_score='raise-deprecating',\n",
       "          estimator=LGBMClassifier(boosting_type='gbdt', class_weight=None, colsample_bytree=1.0,\n",
       "        importance_type='split', learning_rate=0.1, max_depth=-1,\n",
       "        min_child_samples=20, min_child_weight=0.001, min_split_gain=0.0,\n",
       "        n_estimators=100, n_jobs=-1, num_leaves=31, objective=None,\n",
       "        random_state=None, reg_alpha=0.0, reg_lambda=0.0, silent=True,\n",
       "        subsample=1.0, subsample_for_bin=200000, subsample_freq=0),\n",
       "          fit_params=None, iid='warn', n_iter=50, n_jobs=-1,\n",
       "          param_distributions={'num_leaves': [20, 21, 22, 23, 24, 25, 26, 27, 28, 29, 30, 31, 32, 33, 34, 35, 36, 37, 38, 39, 40, 41, 42, 43, 44, 45, 46, 47, 48, 49, 50, 51, 52, 53, 54, 55, 56, 57, 58, 59, 60, 61, 62, 63, 64, 65, 66, 67, 68, 69, 70, 71, 72, 73, 74, 75, 76, 77, 78, 79, 80, 81, 82, 83, 84, 85, ...7979797979798, 0.6838383838383838, 0.6878787878787879, 0.6919191919191919, 0.6959595959595959, 0.7]},\n",
       "          pre_dispatch='2*n_jobs', random_state=None, refit=True,\n",
       "          return_train_score='warn', scoring=None, verbose=1)"
      ]
     },
     "execution_count": 47,
     "metadata": {},
     "output_type": "execute_result"
    }
   ],
   "source": [
    "from sklearn.model_selection import RandomizedSearchCV\n",
    "\n",
    "parameters_grid = {\n",
    "    'application': ['binary'],\n",
    "    'objective': ['binary'],\n",
    "    'metric': ['binary_logloss'],\n",
    "    'boosting_type': ['gbdt', 'dart'],\n",
    "    'is_unbalance': [False, True],\n",
    "    'num_leaves': list(range(20, 150)),\n",
    "    'learning_rate': list(np.logspace(np.log10(0.005), np.log10(0.5), base = 10, num = 1000)),      \n",
    "    'min_child_samples': list(range(20, 100, 5)),\n",
    "    'reg_alpha': list(np.linspace(0, 1)),\n",
    "    'reg_lambda': list(np.linspace(0, 1)),\n",
    "    'max_bin': list(range(240,400)),\n",
    "    'feature_fraction': list(np.linspace(0.3, 0.7, 100)),\n",
    "    'bagging_fraction': list(np.linspace(0.3, 0.7, 100)),\n",
    "    'bagging_freq': [20],\n",
    "    'n_estimators': [500]\n",
    "    #'min_split_gain' : [0.01],    \n",
    "}\n",
    "\n",
    "clf = lgb.LGBMClassifier()\n",
    "grid = RandomizedSearchCV(clf, parameters_grid, verbose = 1, cv = 5, n_jobs = -1, n_iter = 50)\n",
    "grid.fit(df.drop(target, axis = 1), df.Stage)\n",
    "#grid = GridSearchCV(clf, parameters_grid, n_jobs = -1, return_train_score = True, cv = 5, refit = True)\n",
    "#grid.fit(x_train, y_train)\n",
    "#grid.cv_results_.keys()\n",
    "#grid.best_params_\n",
    "#grid.best_score_"
   ]
  },
  {
   "cell_type": "code",
   "execution_count": 48,
   "metadata": {},
   "outputs": [
    {
     "data": {
      "text/plain": [
       "{'application': 'binary',\n",
       " 'bagging_fraction': 0.44545454545454544,\n",
       " 'bagging_freq': 20,\n",
       " 'boosting_type': 'gbdt',\n",
       " 'feature_fraction': 0.6111111111111112,\n",
       " 'is_unbalance': False,\n",
       " 'learning_rate': 0.014772039994401905,\n",
       " 'max_bin': 295,\n",
       " 'metric': 'binary_logloss',\n",
       " 'min_child_samples': 20,\n",
       " 'n_estimators': 500,\n",
       " 'num_leaves': 140,\n",
       " 'objective': 'binary',\n",
       " 'reg_alpha': 0.8775510204081632,\n",
       " 'reg_lambda': 0.5918367346938775}"
      ]
     },
     "execution_count": 48,
     "metadata": {},
     "output_type": "execute_result"
    }
   ],
   "source": [
    "grid.best_params_"
   ]
  },
  {
   "cell_type": "code",
   "execution_count": 100,
   "metadata": {},
   "outputs": [],
   "source": [
    "aux = df.groupby(\"Opportunity_ID\", as_index = False).max()"
   ]
  },
  {
   "cell_type": "code",
   "execution_count": 40,
   "metadata": {
    "scrolled": true
   },
   "outputs": [
    {
     "data": {
      "text/plain": [
       "None      15903\n",
       "Other       394\n",
       "Size_3      356\n",
       "Size_4      196\n",
       "Size_1       25\n",
       "Size_0        7\n",
       "Size_2        2\n",
       "Name: Size, dtype: int64"
      ]
     },
     "execution_count": 40,
     "metadata": {},
     "output_type": "execute_result"
    }
   ],
   "source": [
    "data.Size.value_counts()"
   ]
  },
  {
   "cell_type": "code",
   "execution_count": null,
   "metadata": {},
   "outputs": [],
   "source": []
  }
 ],
 "metadata": {
  "kernelspec": {
   "display_name": "Python 2",
   "language": "python",
   "name": "python2"
  },
  "language_info": {
   "codemirror_mode": {
    "name": "ipython",
    "version": 2
   },
   "file_extension": ".py",
   "mimetype": "text/x-python",
   "name": "python",
   "nbconvert_exporter": "python",
   "pygments_lexer": "ipython2",
   "version": "2.7.17"
  }
 },
 "nbformat": 4,
 "nbformat_minor": 2
}
